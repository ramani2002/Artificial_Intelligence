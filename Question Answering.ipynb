{
 "cells": [
  {
   "cell_type": "markdown",
   "id": "eeaed68a",
   "metadata": {},
   "source": [
    "Reference: https://huggingface.co/docs/transformers/tasks/question_answering"
   ]
  },
  {
   "cell_type": "code",
   "execution_count": null,
   "id": "7537034a",
   "metadata": {
    "ExecuteTime": {
     "end_time": "2023-08-30T17:52:02.114913Z",
     "start_time": "2023-08-30T17:52:02.110114Z"
    }
   },
   "outputs": [],
   "source": [
    "# !pip install transformers datasets evaluate\n",
    "# !pip install transformers[torch]\n",
    "# !pip install accelerate -U\n",
    "# !pip install datasets\n",
    "# !pip install evaluate\n",
    "# !pip install git-lfs"
   ]
  },
  {
   "cell_type": "code",
   "execution_count": null,
   "id": "5f643ee9",
   "metadata": {},
   "outputs": [],
   "source": []
  },
  {
   "cell_type": "code",
   "execution_count": 1,
   "id": "d0acd676",
   "metadata": {
    "ExecuteTime": {
     "end_time": "2023-08-30T18:06:04.244650Z",
     "start_time": "2023-08-30T18:06:03.794982Z"
    }
   },
   "outputs": [
    {
     "data": {
      "application/vnd.jupyter.widget-view+json": {
       "model_id": "11efd249a2114ea586d20c1b3e3d23d6",
       "version_major": 2,
       "version_minor": 0
      },
      "text/plain": [
       "VBox(children=(HTML(value='<center> <img\\nsrc=https://huggingface.co/front/assets/huggingface_logo-noborder.sv…"
      ]
     },
     "metadata": {},
     "output_type": "display_data"
    }
   ],
   "source": [
    "from huggingface_hub import notebook_login\n",
    "\n",
    "notebook_login() # Enter your token to login"
   ]
  },
  {
   "cell_type": "markdown",
   "id": "a71acdde",
   "metadata": {},
   "source": [
    "# Load SQuAD dataset"
   ]
  },
  {
   "cell_type": "code",
   "execution_count": 2,
   "id": "4ef35d51",
   "metadata": {
    "ExecuteTime": {
     "end_time": "2023-08-30T18:06:45.018978Z",
     "start_time": "2023-08-30T18:06:41.625832Z"
    }
   },
   "outputs": [],
   "source": [
    "from datasets import load_dataset\n",
    "\n",
    "squad = load_dataset(\"squad\", split=\"train[:5000]\")"
   ]
  },
  {
   "cell_type": "code",
   "execution_count": 3,
   "id": "12cbdb11",
   "metadata": {
    "ExecuteTime": {
     "end_time": "2023-08-30T18:06:50.552237Z",
     "start_time": "2023-08-30T18:06:50.522107Z"
    }
   },
   "outputs": [],
   "source": [
    "# Split the dataset’s train split into a train and test set with the train_test_split method\n",
    "\n",
    "squad = squad.train_test_split(test_size=0.2)"
   ]
  },
  {
   "cell_type": "code",
   "execution_count": 4,
   "id": "5f86b975",
   "metadata": {
    "ExecuteTime": {
     "end_time": "2023-08-30T18:06:52.856619Z",
     "start_time": "2023-08-30T18:06:52.850976Z"
    }
   },
   "outputs": [
    {
     "data": {
      "text/plain": [
       "{'id': '56bfc420a10cfb14005512c2',\n",
       " 'title': 'Beyoncé',\n",
       " 'context': 'Described as being \"sexy, seductive and provocative\" when performing on stage, Beyoncé has said that she originally created the alter ego \"Sasha Fierce\" to keep that stage persona separate from who she really is. She described Sasha as being \"too aggressive, too strong, too sassy [and] too sexy\", stating, \"I\\'m not like her in real life at all.\" Sasha was conceived during the making of \"Crazy in Love\", and Beyoncé introduced her with the release of her 2008 album I Am... Sasha Fierce. In February 2010, she announced in an interview with Allure magazine that she was comfortable enough with herself to no longer need Sasha Fierce. However, Beyoncé announced in May 2012 that she would bring her back for her Revel Presents: Beyoncé Live shows later that month.',\n",
       " 'question': 'Later what did she say about Sasha?',\n",
       " 'answers': {'text': ['she would bring her back'], 'answer_start': [679]}}"
      ]
     },
     "execution_count": 4,
     "metadata": {},
     "output_type": "execute_result"
    }
   ],
   "source": [
    "# Then take a look at an example\n",
    "squad[\"train\"][0]"
   ]
  },
  {
   "cell_type": "markdown",
   "id": "9757eee5",
   "metadata": {},
   "source": [
    "There are several important fields here:\n",
    "\n",
    "* answers: the starting location of the answer token and the answer text.\n",
    "* context: background information from which the model needs to extract the answer.\n",
    "* question: the question a model should answer."
   ]
  },
  {
   "cell_type": "markdown",
   "id": "1e6b3897",
   "metadata": {},
   "source": [
    "# Preprocess"
   ]
  },
  {
   "cell_type": "code",
   "execution_count": 5,
   "id": "0a223cf4",
   "metadata": {
    "ExecuteTime": {
     "end_time": "2023-08-30T18:06:59.020545Z",
     "start_time": "2023-08-30T18:06:58.208090Z"
    }
   },
   "outputs": [],
   "source": [
    "# The next step is to load a DistilBERT tokenizer to process the question and context fields\n",
    "\n",
    "from transformers import AutoTokenizer\n",
    "\n",
    "tokenizer = AutoTokenizer.from_pretrained(\"distilbert-base-uncased\")"
   ]
  },
  {
   "cell_type": "markdown",
   "id": "1b6a9119",
   "metadata": {},
   "source": [
    "There are a few preprocessing steps particular to question answering tasks you should be aware of:\n",
    "\n",
    "Some examples in a dataset may have a very long context that exceeds the maximum input length of the model. To deal with longer sequences, truncate only the context by setting truncation=\"only_second\".\n",
    "Next, map the start and end positions of the answer to the original context by setting return_offset_mapping=True.\n",
    "With the mapping in hand, now you can find the start and end tokens of the answer. Use the sequence_ids method to find which part of the offset corresponds to the question and which corresponds to the context."
   ]
  },
  {
   "cell_type": "code",
   "execution_count": 6,
   "id": "ae9452cd",
   "metadata": {
    "ExecuteTime": {
     "end_time": "2023-08-30T18:07:03.586197Z",
     "start_time": "2023-08-30T18:07:03.578465Z"
    }
   },
   "outputs": [],
   "source": [
    "# Function to truncate and map the start and end tokens of the answer to the context\n",
    "\n",
    "def preprocess_function(examples):\n",
    "    questions = [q.strip() for q in examples[\"question\"]]\n",
    "    inputs = tokenizer(\n",
    "        questions,\n",
    "        examples[\"context\"],\n",
    "        max_length=384,\n",
    "        truncation=\"only_second\",\n",
    "        return_offsets_mapping=True,\n",
    "        padding=\"max_length\",\n",
    "    )\n",
    "\n",
    "    offset_mapping = inputs.pop(\"offset_mapping\")\n",
    "    answers = examples[\"answers\"]\n",
    "    start_positions = []\n",
    "    end_positions = []\n",
    "\n",
    "    for i, offset in enumerate(offset_mapping):\n",
    "        answer = answers[i]\n",
    "        start_char = answer[\"answer_start\"][0]\n",
    "        end_char = answer[\"answer_start\"][0] + len(answer[\"text\"][0])\n",
    "        sequence_ids = inputs.sequence_ids(i)\n",
    "\n",
    "        # Find the start and end of the context\n",
    "        idx = 0\n",
    "        while sequence_ids[idx] != 1:\n",
    "            idx += 1\n",
    "        context_start = idx\n",
    "        while sequence_ids[idx] == 1:\n",
    "            idx += 1\n",
    "        context_end = idx - 1\n",
    "\n",
    "        # If the answer is not fully inside the context, label it (0, 0)\n",
    "        if offset[context_start][0] > end_char or offset[context_end][1] < start_char:\n",
    "            start_positions.append(0)\n",
    "            end_positions.append(0)\n",
    "        else:\n",
    "            # Otherwise it's the start and end token positions\n",
    "            idx = context_start\n",
    "            while idx <= context_end and offset[idx][0] <= start_char:\n",
    "                idx += 1\n",
    "            start_positions.append(idx - 1)\n",
    "\n",
    "            idx = context_end\n",
    "            while idx >= context_start and offset[idx][1] >= end_char:\n",
    "                idx -= 1\n",
    "            end_positions.append(idx + 1)\n",
    "\n",
    "    inputs[\"start_positions\"] = start_positions\n",
    "    inputs[\"end_positions\"] = end_positions\n",
    "    return inputs"
   ]
  },
  {
   "cell_type": "code",
   "execution_count": 7,
   "id": "b70bfd5f",
   "metadata": {
    "ExecuteTime": {
     "end_time": "2023-08-30T18:07:07.113160Z",
     "start_time": "2023-08-30T18:07:04.600917Z"
    }
   },
   "outputs": [
    {
     "data": {
      "application/vnd.jupyter.widget-view+json": {
       "model_id": "02e5ec2437634169a9ba3986b3fa3266",
       "version_major": 2,
       "version_minor": 0
      },
      "text/plain": [
       "Map:   0%|          | 0/4000 [00:00<?, ? examples/s]"
      ]
     },
     "metadata": {},
     "output_type": "display_data"
    },
    {
     "data": {
      "application/vnd.jupyter.widget-view+json": {
       "model_id": "52bc5d5903314949affe114030ae8a54",
       "version_major": 2,
       "version_minor": 0
      },
      "text/plain": [
       "Map:   0%|          | 0/1000 [00:00<?, ? examples/s]"
      ]
     },
     "metadata": {},
     "output_type": "display_data"
    }
   ],
   "source": [
    "# To apply the preprocessing function over the entire dataset, use Datasets map function. You can speed up the map \n",
    "# function by setting batched=True to process multiple elements of the dataset at once. Remove any unneeded columns\n",
    "\n",
    "tokenized_squad = squad.map(preprocess_function, batched=True, remove_columns=squad[\"train\"].column_names)"
   ]
  },
  {
   "cell_type": "markdown",
   "id": "d7088588",
   "metadata": {},
   "source": [
    "Now create a batch of examples using DefaultDataCollator. Unlike other data collators in 🤗 Transformers, the DefaultDataCollator does not apply any additional preprocessing such as padding."
   ]
  },
  {
   "cell_type": "markdown",
   "id": "6731a9b0",
   "metadata": {},
   "source": [
    "## Training with PyTorch"
   ]
  },
  {
   "cell_type": "code",
   "execution_count": 8,
   "id": "a124e430",
   "metadata": {
    "ExecuteTime": {
     "end_time": "2023-08-30T18:07:19.595842Z",
     "start_time": "2023-08-30T18:07:11.340274Z"
    }
   },
   "outputs": [],
   "source": [
    "# PyTorch\n",
    "\n",
    "from transformers import DefaultDataCollator\n",
    "\n",
    "data_collator = DefaultDataCollator()"
   ]
  },
  {
   "cell_type": "code",
   "execution_count": 9,
   "id": "13f07f60",
   "metadata": {
    "ExecuteTime": {
     "end_time": "2023-08-30T18:07:21.802561Z",
     "start_time": "2023-08-30T18:07:21.799150Z"
    },
    "code_folding": []
   },
   "outputs": [],
   "source": [
    "# # TensorFlow\n",
    "\n",
    "# from transformers import DefaultDataCollator\n",
    "\n",
    "# data_collator = DefaultDataCollator(return_tensors=\"tf\")"
   ]
  },
  {
   "cell_type": "markdown",
   "id": "ccdbc656",
   "metadata": {},
   "source": [
    "# Train"
   ]
  },
  {
   "cell_type": "markdown",
   "id": "24be7e25",
   "metadata": {},
   "source": [
    "If you aren’t familiar with finetuning a model with the Trainer (https://huggingface.co/docs/transformers/v4.32.1/en/main_classes/trainer#transformers.Trainer), take a look at the basic tutorial here (https://huggingface.co/docs/transformers/training#train-with-pytorch-trainer)!"
   ]
  },
  {
   "cell_type": "code",
   "execution_count": 10,
   "id": "5067efb9",
   "metadata": {
    "ExecuteTime": {
     "end_time": "2023-08-30T18:07:30.262808Z",
     "start_time": "2023-08-30T18:07:29.162180Z"
    }
   },
   "outputs": [
    {
     "name": "stderr",
     "output_type": "stream",
     "text": [
      "Some weights of DistilBertForQuestionAnswering were not initialized from the model checkpoint at distilbert-base-uncased and are newly initialized: ['qa_outputs.bias', 'qa_outputs.weight']\n",
      "You should probably TRAIN this model on a down-stream task to be able to use it for predictions and inference.\n"
     ]
    }
   ],
   "source": [
    "# Begin the Training by Load DistilBERT with AutoModelForQuestionAnswering\n",
    "# (https://huggingface.co/docs/transformers/v4.32.1/en/model_doc/auto#transformers.AutoModelForQuestionAnswering)\n",
    "\n",
    "from transformers import AutoModelForQuestionAnswering, TrainingArguments, Trainer\n",
    "\n",
    "model = AutoModelForQuestionAnswering.from_pretrained(\"distilbert-base-uncased\")"
   ]
  },
  {
   "cell_type": "markdown",
   "id": "ec681623",
   "metadata": {},
   "source": [
    "At this point, only three steps remain:\n",
    "\n",
    "* Define your training hyperparameters in TrainingArguments (https://huggingface.co/docs/transformers/v4.32.1/en/main_classes/trainer#transformers.TrainingArguments). The only required parameter is output_dir which specifies where to save your model. You’ll push this model to the Hub by setting push_to_hub=True (you need to be signed in to Hugging Face to upload your model).\n",
    "* Pass the training arguments to Trainer along with the model, dataset, tokenizer, and data collator.\n",
    "* Call train() (https://huggingface.co/docs/transformers/v4.32.1/en/main_classes/trainer#transformers.Trainer.train) to finetune your model."
   ]
  },
  {
   "cell_type": "code",
   "execution_count": 11,
   "id": "d4780d38",
   "metadata": {
    "ExecuteTime": {
     "end_time": "2023-08-30T18:08:14.401129Z",
     "start_time": "2023-08-30T18:08:14.397255Z"
    }
   },
   "outputs": [],
   "source": [
    "from tensorflow.python.ops.numpy_ops import np_config\n",
    "np_config.enable_numpy_behavior()"
   ]
  },
  {
   "cell_type": "code",
   "execution_count": 12,
   "id": "1a3f7874",
   "metadata": {
    "ExecuteTime": {
     "end_time": "2023-08-30T22:24:52.767706Z",
     "start_time": "2023-08-30T18:08:18.136256Z"
    }
   },
   "outputs": [
    {
     "data": {
      "text/html": [
       "\n",
       "    <div>\n",
       "      \n",
       "      <progress value='750' max='750' style='width:300px; height:20px; vertical-align: middle;'></progress>\n",
       "      [750/750 4:16:22, Epoch 3/3]\n",
       "    </div>\n",
       "    <table border=\"1\" class=\"dataframe\">\n",
       "  <thead>\n",
       " <tr style=\"text-align: left;\">\n",
       "      <th>Epoch</th>\n",
       "      <th>Training Loss</th>\n",
       "      <th>Validation Loss</th>\n",
       "    </tr>\n",
       "  </thead>\n",
       "  <tbody>\n",
       "    <tr>\n",
       "      <td>1</td>\n",
       "      <td>No log</td>\n",
       "      <td>2.121683</td>\n",
       "    </tr>\n",
       "    <tr>\n",
       "      <td>2</td>\n",
       "      <td>2.651600</td>\n",
       "      <td>1.631942</td>\n",
       "    </tr>\n",
       "    <tr>\n",
       "      <td>3</td>\n",
       "      <td>2.651600</td>\n",
       "      <td>1.558441</td>\n",
       "    </tr>\n",
       "  </tbody>\n",
       "</table><p>"
      ],
      "text/plain": [
       "<IPython.core.display.HTML object>"
      ]
     },
     "metadata": {},
     "output_type": "display_data"
    },
    {
     "data": {
      "text/plain": [
       "TrainOutput(global_step=750, training_loss=2.2196768798828126, metrics={'train_runtime': 15394.3558, 'train_samples_per_second': 0.78, 'train_steps_per_second': 0.049, 'total_flos': 1175877900288000.0, 'train_loss': 2.2196768798828126, 'epoch': 3.0})"
      ]
     },
     "execution_count": 12,
     "metadata": {},
     "output_type": "execute_result"
    }
   ],
   "source": [
    "training_args = TrainingArguments(\n",
    "    output_dir=\"my_awesome_qa_model\",\n",
    "    evaluation_strategy=\"epoch\",\n",
    "    learning_rate=2e-5,\n",
    "    per_device_train_batch_size=16,\n",
    "    per_device_eval_batch_size=16,\n",
    "    num_train_epochs=3,\n",
    "    weight_decay=0.01,\n",
    "    push_to_hub=True,\n",
    ")\n",
    "\n",
    "trainer = Trainer(\n",
    "    model=model,\n",
    "    args=training_args,\n",
    "    train_dataset=tokenized_squad[\"train\"],\n",
    "    eval_dataset=tokenized_squad[\"test\"],\n",
    "    tokenizer=tokenizer,\n",
    "    data_collator=data_collator,\n",
    ")\n",
    "\n",
    "trainer.train()"
   ]
  },
  {
   "cell_type": "markdown",
   "id": "471b0bd2",
   "metadata": {},
   "source": [
    "## Training with TensorFlow\n",
    "\n",
    "### TBD - There are some errors!!!!"
   ]
  },
  {
   "cell_type": "markdown",
   "id": "9a3d9a24",
   "metadata": {},
   "source": [
    "To finetune a model in TensorFlow, start by setting up an optimizer function, learning rate schedule, and some training hyperparameters"
   ]
  },
  {
   "cell_type": "code",
   "execution_count": 13,
   "id": "b9488217",
   "metadata": {
    "ExecuteTime": {
     "end_time": "2023-08-30T23:59:43.010878Z",
     "start_time": "2023-08-30T23:59:42.999116Z"
    }
   },
   "outputs": [],
   "source": [
    "# from transformers import DefaultDataCollator\n",
    "\n",
    "# data_collator = DefaultDataCollator(return_tensors=\"tf\")"
   ]
  },
  {
   "cell_type": "code",
   "execution_count": 14,
   "id": "50b77c84",
   "metadata": {
    "ExecuteTime": {
     "end_time": "2023-08-30T23:59:47.467819Z",
     "start_time": "2023-08-30T23:59:46.792799Z"
    }
   },
   "outputs": [],
   "source": [
    "# from transformers import create_optimizer\n",
    "\n",
    "# batch_size = 16\n",
    "# num_epochs = 2\n",
    "# total_train_steps = (len(tokenized_squad[\"train\"]) // batch_size) * num_epochs\n",
    "# optimizer, schedule = create_optimizer(\n",
    "#     init_lr=2e-5,\n",
    "#     num_warmup_steps=0,\n",
    "#     num_train_steps=total_train_steps,\n",
    "# )"
   ]
  },
  {
   "cell_type": "markdown",
   "id": "96e16386",
   "metadata": {},
   "source": [
    "Then you can load DistilBERT with TFAutoModelForQuestionAnswering"
   ]
  },
  {
   "cell_type": "code",
   "execution_count": 31,
   "id": "e1f8edeb",
   "metadata": {
    "ExecuteTime": {
     "end_time": "2023-08-31T14:16:04.931575Z",
     "start_time": "2023-08-31T14:16:04.926775Z"
    }
   },
   "outputs": [],
   "source": [
    "# from transformers import TFAutoModelForQuestionAnswering, TFAutoModel\n",
    "\n",
    "# model = TFAutoModelForQuestionAnswering.from_pretrained(\"distilbert-base-uncased\")"
   ]
  },
  {
   "cell_type": "markdown",
   "id": "ee76ebe2",
   "metadata": {},
   "source": [
    "Convert your datasets to the tf.data.Dataset format with prepare_tf_dataset() (https://huggingface.co/docs/transformers/v4.32.1/en/main_classes/model#transformers.TFPreTrainedModel.prepare_tf_dataset)"
   ]
  },
  {
   "cell_type": "code",
   "execution_count": 16,
   "id": "6d36ddd1",
   "metadata": {
    "ExecuteTime": {
     "end_time": "2023-08-31T00:00:03.553509Z",
     "start_time": "2023-08-31T00:00:03.032212Z"
    }
   },
   "outputs": [],
   "source": [
    "# tf_train_set = model.prepare_tf_dataset(\n",
    "#     tokenized_squad[\"train\"],\n",
    "#     shuffle=True,\n",
    "#     batch_size=16,\n",
    "#     collate_fn=data_collator,\n",
    "# )\n",
    "\n",
    "# tf_validation_set = model.prepare_tf_dataset(\n",
    "#     tokenized_squad[\"test\"],\n",
    "#     shuffle=False,\n",
    "#     batch_size=16,\n",
    "#     collate_fn=data_collator,\n",
    "# )"
   ]
  },
  {
   "cell_type": "markdown",
   "id": "f2b7a641",
   "metadata": {
    "ExecuteTime": {
     "end_time": "2023-08-30T17:35:40.098752Z",
     "start_time": "2023-08-30T17:35:40.092884Z"
    }
   },
   "source": [
    "Configure the model for training with compile (https://keras.io/api/models/model_training_apis/#compile-method)"
   ]
  },
  {
   "cell_type": "code",
   "execution_count": 23,
   "id": "6aa5c210",
   "metadata": {
    "ExecuteTime": {
     "end_time": "2023-08-31T13:48:10.348907Z",
     "start_time": "2023-08-31T13:48:10.343632Z"
    }
   },
   "outputs": [],
   "source": [
    "# import tensorflow as tf\n",
    "\n",
    "# model.compile(optimizer=optimizer)"
   ]
  },
  {
   "cell_type": "markdown",
   "id": "9eaa8d2b",
   "metadata": {},
   "source": [
    "The last thing to setup before you start training is to provide a way to push your model to the Hub. This can be done by specifying where to push your model and tokenizer in the PushToHubCallback (https://huggingface.co/docs/transformers/v4.32.1/en/main_classes/keras_callbacks#transformers.PushToHubCallback)"
   ]
  },
  {
   "cell_type": "code",
   "execution_count": 21,
   "id": "8b1345e5",
   "metadata": {
    "ExecuteTime": {
     "end_time": "2023-08-31T13:47:58.671231Z",
     "start_time": "2023-08-31T13:47:58.667703Z"
    }
   },
   "outputs": [],
   "source": [
    "# from transformers.keras_callbacks import PushToHubCallback\n",
    "\n",
    "# callback = PushToHubCallback(\n",
    "#     output_dir=\"my_awesome_qa_model\",\n",
    "#     tokenizer=tokenizer,\n",
    "# )"
   ]
  },
  {
   "cell_type": "code",
   "execution_count": 22,
   "id": "3987b111",
   "metadata": {
    "ExecuteTime": {
     "end_time": "2023-08-31T13:48:04.739589Z",
     "start_time": "2023-08-31T13:48:04.734552Z"
    }
   },
   "outputs": [],
   "source": [
    "# model.fit(x=tf_train_set, validation_data=tf_validation_set, epochs=3, callbacks=[callback])"
   ]
  },
  {
   "cell_type": "markdown",
   "id": "f4086b0c",
   "metadata": {},
   "source": [
    "For a more in-depth example of how to finetune a model for question answering, take a look at the corresponding PyTorch notebook (https://colab.research.google.com/github/huggingface/notebooks/blob/main/examples/question_answering.ipynb) or TensorFlow notebook (https://colab.research.google.com/github/huggingface/notebooks/blob/main/examples/question_answering-tf.ipynb)."
   ]
  },
  {
   "cell_type": "markdown",
   "id": "0cabe34c",
   "metadata": {},
   "source": [
    "# Evaluate"
   ]
  },
  {
   "cell_type": "markdown",
   "id": "fba0771b",
   "metadata": {},
   "source": [
    "Evaluation for question answering requires a significant amount of postprocessing. To avoid taking up too much of your time, this guide skips the evaluation step. The Trainer (https://huggingface.co/docs/transformers/v4.32.1/en/main_classes/trainer#transformers.Trainer) still calculates the evaluation loss during training so you’re not completely in the dark about your model’s performance."
   ]
  },
  {
   "cell_type": "markdown",
   "id": "7176f8d5",
   "metadata": {},
   "source": [
    "# Inference"
   ]
  },
  {
   "cell_type": "markdown",
   "id": "3c04c345",
   "metadata": {},
   "source": [
    "Come up with a question and some context for the model to predict"
   ]
  },
  {
   "cell_type": "code",
   "execution_count": 28,
   "id": "3a32ced1",
   "metadata": {
    "ExecuteTime": {
     "end_time": "2023-08-31T14:13:21.167226Z",
     "start_time": "2023-08-31T14:13:21.162860Z"
    }
   },
   "outputs": [],
   "source": [
    "question = \"How many programming languages does BLOOM support?\"\n",
    "context = \"BLOOM has 176 billion parameters and can generate text in 46 languages natural languages and 13 programming languages.\""
   ]
  },
  {
   "cell_type": "markdown",
   "id": "3704471c",
   "metadata": {},
   "source": [
    "The simplest way to try out your finetuned model for inference is to use it in a pipeline() (https://huggingface.co/docs/transformers/v4.32.1/en/main_classes/pipelines#transformers.pipeline). Instantiate a pipeline for question answering with your model, and pass your text to it"
   ]
  },
  {
   "cell_type": "code",
   "execution_count": 29,
   "id": "ae39e858",
   "metadata": {
    "ExecuteTime": {
     "end_time": "2023-08-31T14:13:32.998546Z",
     "start_time": "2023-08-31T14:13:32.214741Z"
    }
   },
   "outputs": [
    {
     "data": {
      "text/plain": [
       "{'score': 0.15511634945869446,\n",
       " 'start': 58,\n",
       " 'end': 95,\n",
       " 'answer': '46 languages natural languages and 13'}"
      ]
     },
     "execution_count": 29,
     "metadata": {},
     "output_type": "execute_result"
    }
   ],
   "source": [
    "from transformers import pipeline\n",
    "\n",
    "question_answerer = pipeline(\"question-answering\", model=\"my_awesome_qa_model\")\n",
    "question_answerer(question=question, context=context)"
   ]
  },
  {
   "cell_type": "code",
   "execution_count": 34,
   "id": "54214aa4",
   "metadata": {
    "ExecuteTime": {
     "end_time": "2023-08-31T14:21:31.173312Z",
     "start_time": "2023-08-31T14:21:31.169605Z"
    }
   },
   "outputs": [],
   "source": [
    "# # Automate Question Answering\n",
    "\n",
    "# from transformers import pipeline\n",
    "\n",
    "# question_answerer1 = pipeline(\"question-answering\", model=\"my_awesome_qa_model\")\n",
    "# Your_Question = question_answerer1(input('Ask your question'))"
   ]
  },
  {
   "cell_type": "code",
   "execution_count": null,
   "id": "2895c9d2",
   "metadata": {},
   "outputs": [],
   "source": []
  },
  {
   "cell_type": "code",
   "execution_count": null,
   "id": "14c57801",
   "metadata": {},
   "outputs": [],
   "source": []
  },
  {
   "cell_type": "code",
   "execution_count": null,
   "id": "8e411cca",
   "metadata": {},
   "outputs": [],
   "source": []
  },
  {
   "cell_type": "code",
   "execution_count": null,
   "id": "369a334d",
   "metadata": {},
   "outputs": [],
   "source": []
  }
 ],
 "metadata": {
  "kernelspec": {
   "display_name": "Python 3 (ipykernel)",
   "language": "python",
   "name": "python3"
  },
  "language_info": {
   "codemirror_mode": {
    "name": "ipython",
    "version": 3
   },
   "file_extension": ".py",
   "mimetype": "text/x-python",
   "name": "python",
   "nbconvert_exporter": "python",
   "pygments_lexer": "ipython3",
   "version": "3.11.3"
  },
  "toc": {
   "base_numbering": 1,
   "nav_menu": {},
   "number_sections": true,
   "sideBar": true,
   "skip_h1_title": false,
   "title_cell": "Table of Contents",
   "title_sidebar": "Contents",
   "toc_cell": false,
   "toc_position": {},
   "toc_section_display": true,
   "toc_window_display": false
  }
 },
 "nbformat": 4,
 "nbformat_minor": 5
}
